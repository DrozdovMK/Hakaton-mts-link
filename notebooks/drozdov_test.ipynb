{
 "cells": [
  {
   "cell_type": "code",
   "execution_count": 4,
   "metadata": {},
   "outputs": [],
   "source": [
    "import sys\n",
    "import os\n",
    "import numpy as np\n",
    "\n",
    "# Путь к директории, в которой находится этот файл\n",
    "# Чтобы можно импортировать папки с кодом из директории выше\n",
    "# например from censure import Censor\n",
    "current_directory = os.path.dirname(os.path.abspath(''))\n",
    "parent_directory = os.path.abspath(os.path.join(current_directory, '..'))\n",
    "sys.path.append(current_directory)"
   ]
  },
  {
   "cell_type": "code",
   "execution_count": 5,
   "metadata": {},
   "outputs": [
    {
     "name": "stderr",
     "output_type": "stream",
     "text": [
      "2024-09-28 23:17:08.450151: I tensorflow/core/util/port.cc:153] oneDNN custom operations are on. You may see slightly different numerical results due to floating-point round-off errors from different computation orders. To turn them off, set the environment variable `TF_ENABLE_ONEDNN_OPTS=0`.\n",
      "2024-09-28 23:17:08.456501: I external/local_xla/xla/tsl/cuda/cudart_stub.cc:32] Could not find cuda drivers on your machine, GPU will not be used.\n",
      "2024-09-28 23:17:08.524450: I external/local_xla/xla/tsl/cuda/cudart_stub.cc:32] Could not find cuda drivers on your machine, GPU will not be used.\n",
      "2024-09-28 23:17:08.581177: E external/local_xla/xla/stream_executor/cuda/cuda_fft.cc:485] Unable to register cuFFT factory: Attempting to register factory for plugin cuFFT when one has already been registered\n",
      "2024-09-28 23:17:08.635882: E external/local_xla/xla/stream_executor/cuda/cuda_dnn.cc:8454] Unable to register cuDNN factory: Attempting to register factory for plugin cuDNN when one has already been registered\n",
      "2024-09-28 23:17:08.653668: E external/local_xla/xla/stream_executor/cuda/cuda_blas.cc:1452] Unable to register cuBLAS factory: Attempting to register factory for plugin cuBLAS when one has already been registered\n",
      "2024-09-28 23:17:08.759241: I tensorflow/core/platform/cpu_feature_guard.cc:210] This TensorFlow binary is optimized to use available CPU instructions in performance-critical operations.\n",
      "To enable the following instructions: AVX2 AVX_VNNI FMA, in other operations, rebuild TensorFlow with the appropriate compiler flags.\n",
      "2024-09-28 23:17:09.484816: W tensorflow/compiler/tf2tensorrt/utils/py_utils.cc:38] TF-TRT Warning: Could not find TensorRT\n"
     ]
    }
   ],
   "source": [
    "from scripts.profanity_check import profanity_processing\n",
    "from scripts.embedding_model import universal_sentence_encoder"
   ]
  },
  {
   "cell_type": "code",
   "execution_count": 8,
   "metadata": {},
   "outputs": [
    {
     "data": {
      "text/plain": [
       "'я люблю свою работу за большую зарплату; много денег; хочу много долларов; 100 тысяч рублей в секунду; денежные премии!; бумажки; бабосики)); в коллективе царит атмосфера поддержки.; дружелюбная атмосфера делает работу приятнее.; мы как друзья, не только коллеги.; каждый может высказать свое мнение.; команда — настоящая дружная семья.; позитивная атмосфера заряжает энергией.; все готовы поддерживать друг друга.; мы можем делиться радостями и трудностями.; вместе справляемся с любыми задачами.; всегда можно обратиться за помощью.; еда всегда свежая и аппетитная.; в нашем меню много интересных блюд.; коллеги любят делиться рецептами.; проводим обеды с удовольствием и смехом.; каждую неделю пробуем что-то новое.; вместе готовим вкусные угощения.; обсуждаем кулинарные эксперименты после работы.; мы создаем неповторимые гастрономические пары.; еда помогает нам лучше узнать друг друга.; собираемся на праздники за вкусной едой.; всегда есть возможности для обучения.; поддерживаем друг друга в развитии.; обсуждаем новые идеи на митингах.; курсы и тренинги доступны каждому.; каждый может предложить свой проект.; ставим цели и достигаем их вместе.; обратная связь помогает расти профессионально.; читаем книги и делимся знаниями.; нас мотивирует желание стать лучше.'"
      ]
     },
     "execution_count": 8,
     "metadata": {},
     "output_type": "execute_result"
    }
   ],
   "source": [
    "responses = [\n",
    "    \"Я люблю свою работу за большую зарплату\",\n",
    "    \"Много денег\",\n",
    "    \"Хочу много долларов\",\n",
    "    \"100 тысяч рублей в секунду\",\n",
    "    \"Денежные премии!\",\n",
    "    \"Бумажки\",\n",
    "    \"Бабосики))\",\n",
    "    \"В коллективе царит атмосфера поддержки.\",\n",
    "    \"Дружелюбная атмосфера делает работу приятнее.\",\n",
    "    \"Мы как друзья, не только коллеги.\",\n",
    "    \"Каждый может высказать свое мнение.\",\n",
    "    \"Команда — настоящая дружная семья.\",\n",
    "    \"Позитивная атмосфера заряжает энергией.\",\n",
    "    \"Все готовы поддерживать друг друга.\",\n",
    "    \"Мы можем делиться радостями и трудностями.\",\n",
    "    \"Вместе справляемся с любыми задачами.\",\n",
    "    \"Всегда можно обратиться за помощью.\",\n",
    "    \"Еда всегда свежая и аппетитная.\",\n",
    "    \"В нашем меню много интересных блюд.\",\n",
    "    \"Коллеги любят делиться рецептами.\",\n",
    "    \"Проводим обеды с удовольствием и смехом.\",\n",
    "    \"Каждую неделю пробуем что-то новое.\",\n",
    "    \"Вместе готовим вкусные угощения.\",\n",
    "    \"Обсуждаем кулинарные эксперименты после работы.\",\n",
    "    \"Мы создаем неповторимые гастрономические пары.\",\n",
    "    \"Еда помогает нам лучше узнать друг друга.\",\n",
    "    \"Собираемся на праздники за вкусной едой.\",\n",
    "    \"Всегда есть возможности для обучения.\",\n",
    "    \"Поддерживаем друг друга в развитии.\",\n",
    "    \"Обсуждаем новые идеи на митингах.\",\n",
    "    \"Курсы и тренинги доступны каждому.\",\n",
    "    \"Каждый может предложить свой проект.\",\n",
    "    \"Ставим цели и достигаем их вместе.\",\n",
    "    \"Обратная связь помогает расти профессионально.\",\n",
    "    \"Читаем книги и делимся знаниями.\",\n",
    "    \"Нас мотивирует желание стать лучше.\"\n",
    "    \n",
    "]\n",
    "\n",
    "responses = [response.lower() for response in responses]\n",
    "responses = np.array(responses)\n",
    "'; '.join(responses)"
   ]
  },
  {
   "cell_type": "code",
   "execution_count": 4,
   "metadata": {},
   "outputs": [],
   "source": [
    "model = universal_sentence_encoder()"
   ]
  },
  {
   "cell_type": "code",
   "execution_count": 6,
   "metadata": {},
   "outputs": [
    {
     "data": {
      "text/plain": [
       "<tf.Tensor: shape=(36, 512), dtype=float32, numpy=\n",
       "array([[-0.01534517, -0.04917703,  0.00449831, ..., -0.02355961,\n",
       "        -0.01564514,  0.0015455 ],\n",
       "       [ 0.0831308 , -0.00533537, -0.03361337, ...,  0.03192265,\n",
       "         0.05454447,  0.07531159],\n",
       "       [ 0.00153435, -0.02513039, -0.03392932, ...,  0.01917938,\n",
       "         0.06151196,  0.09093355],\n",
       "       ...,\n",
       "       [-0.03138888,  0.05251615, -0.03633181, ..., -0.04989275,\n",
       "         0.00196739,  0.00370043],\n",
       "       [-0.05370517, -0.01137648,  0.00720926, ..., -0.061986  ,\n",
       "         0.01351536, -0.03088878],\n",
       "       [-0.02917297, -0.00114145,  0.00714192, ...,  0.06403864,\n",
       "         0.01628391,  0.06203831]], dtype=float32)>"
      ]
     },
     "execution_count": 6,
     "metadata": {},
     "output_type": "execute_result"
    }
   ],
   "source": [
    "model.transform(responses)"
   ]
  },
  {
   "cell_type": "code",
   "execution_count": null,
   "metadata": {},
   "outputs": [],
   "source": []
  }
 ],
 "metadata": {
  "kernelspec": {
   "display_name": ".venv",
   "language": "python",
   "name": "python3"
  },
  "language_info": {
   "codemirror_mode": {
    "name": "ipython",
    "version": 3
   },
   "file_extension": ".py",
   "mimetype": "text/x-python",
   "name": "python",
   "nbconvert_exporter": "python",
   "pygments_lexer": "ipython3",
   "version": "3.10.15"
  }
 },
 "nbformat": 4,
 "nbformat_minor": 2
}
